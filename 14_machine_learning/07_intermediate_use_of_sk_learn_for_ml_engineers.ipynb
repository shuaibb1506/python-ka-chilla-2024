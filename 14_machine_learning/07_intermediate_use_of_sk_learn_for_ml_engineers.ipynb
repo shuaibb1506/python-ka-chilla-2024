{
 "cells": [
  {
   "cell_type": "markdown",
   "id": "818c55e1",
   "metadata": {
    "papermill": {
     "duration": 0.006001,
     "end_time": "2024-12-03T22:16:12.788839",
     "exception": false,
     "start_time": "2024-12-03T22:16:12.782838",
     "status": "completed"
    },
    "tags": []
   },
   "source": [
    "# Linear Regression | Pipeline | Save and Load a trained Model | Model Evaluation\n",
    "\n",
    "Linear regression is a linear approach to modeling the relationship between a scalar response (or dependent variable) and one or more explanatory variables (or independent variables). The case of one explanatory variable is called simple linear regression. For more than one explanatory variable, the process is called multiple linear regression.\n",
    "\n",
    "## Simple Linear Regression\n",
    "\n",
    "Simple linear regression is an approach for predicting a response using a single feature. It is assumed that the two variables are linearly related. Hence, we try to find a linear function that predicts the response value(y) as accurately as possible as a function of the feature or independent variable(x).\n",
    "\n",
    "The linear function can be represented as:\n",
    "$$\n",
    "y = mx + c\n",
    "$$\n",
    "Where:\n",
    "- y is the response\n",
    "- x is the feature\n",
    "- m is the slope\n",
    "- c is the intercept\n",
    "- m and c are the coefficients of the model\n",
    "  \n",
    "The model is trained on a dataset with features(x) and target(y). It learns the values of coefficients m and c that minimize the difference between actual values in the dataset and predicted values by the model. The difference between actual values and predicted values is known as the cost function. The model optimizes the cost function using the gradient descent algorithm.\n",
    "\n",
    "## Multiple Linear Regression\n",
    "\n",
    "Multiple linear regression is an extension of simple linear regression as it takes more than one feature to predict the response. The linear function can be represented as:\n",
    "$$\n",
    "y = m1x1 + m2x2 + m3x3 + ... + c\n",
    "$$\n",
    "Where:\n",
    "- y is the response\n",
    "- x1, x2, x3, ... are the features\n",
    "- m1, m2, m3, ... are the coefficients of the model\n",
    "- c is the intercept\n",
    "- m1, m2, m3, ... and c are the coefficients of the model\n",
    "\n",
    "The model is trained on a dataset with features(x) and target(y). It learns the values of coefficients m1, m2, m3, ... and c that minimize the difference between actual values in the dataset and predicted values by the model. The difference between actual values and predicted values is known as the cost function. The model optimizes the cost function using the gradient descent algorithm."
   ]
  },
  {
   "cell_type": "code",
   "execution_count": 1,
   "id": "76cd475f",
   "metadata": {
    "execution": {
     "iopub.execute_input": "2024-12-03T22:16:12.800990Z",
     "iopub.status.busy": "2024-12-03T22:16:12.800579Z",
     "iopub.status.idle": "2024-12-03T22:16:15.707115Z",
     "shell.execute_reply": "2024-12-03T22:16:15.706147Z"
    },
    "papermill": {
     "duration": 2.915523,
     "end_time": "2024-12-03T22:16:15.709734",
     "exception": false,
     "start_time": "2024-12-03T22:16:12.794211",
     "status": "completed"
    },
    "tags": []
   },
   "outputs": [],
   "source": [
    "# import libraries\n",
    "import pandas as pd\n",
    "import numpy as np\n",
    "import matplotlib.pyplot as plt\n",
    "import seaborn as sns\n",
    "from sklearn.model_selection import train_test_split\n",
    "from sklearn.preprocessing import StandardScaler, LabelEncoder\n",
    "from sklearn.linear_model import LinearRegression"
   ]
  },
  {
   "cell_type": "code",
   "execution_count": 2,
   "id": "8ae89096",
   "metadata": {
    "execution": {
     "iopub.execute_input": "2024-12-03T22:16:15.722157Z",
     "iopub.status.busy": "2024-12-03T22:16:15.721667Z",
     "iopub.status.idle": "2024-12-03T22:16:16.313848Z",
     "shell.execute_reply": "2024-12-03T22:16:16.312788Z"
    },
    "papermill": {
     "duration": 0.600939,
     "end_time": "2024-12-03T22:16:16.316179",
     "exception": false,
     "start_time": "2024-12-03T22:16:15.715240",
     "status": "completed"
    },
    "tags": []
   },
   "outputs": [
    {
     "data": {
      "text/html": [
       "<div>\n",
       "<style scoped>\n",
       "    .dataframe tbody tr th:only-of-type {\n",
       "        vertical-align: middle;\n",
       "    }\n",
       "\n",
       "    .dataframe tbody tr th {\n",
       "        vertical-align: top;\n",
       "    }\n",
       "\n",
       "    .dataframe thead th {\n",
       "        text-align: right;\n",
       "    }\n",
       "</style>\n",
       "<table border=\"1\" class=\"dataframe\">\n",
       "  <thead>\n",
       "    <tr style=\"text-align: right;\">\n",
       "      <th></th>\n",
       "      <th>total_bill</th>\n",
       "      <th>tip</th>\n",
       "      <th>sex</th>\n",
       "      <th>smoker</th>\n",
       "      <th>day</th>\n",
       "      <th>time</th>\n",
       "      <th>size</th>\n",
       "    </tr>\n",
       "  </thead>\n",
       "  <tbody>\n",
       "    <tr>\n",
       "      <th>0</th>\n",
       "      <td>16.99</td>\n",
       "      <td>1.01</td>\n",
       "      <td>Female</td>\n",
       "      <td>No</td>\n",
       "      <td>Sun</td>\n",
       "      <td>Dinner</td>\n",
       "      <td>2</td>\n",
       "    </tr>\n",
       "    <tr>\n",
       "      <th>1</th>\n",
       "      <td>10.34</td>\n",
       "      <td>1.66</td>\n",
       "      <td>Male</td>\n",
       "      <td>No</td>\n",
       "      <td>Sun</td>\n",
       "      <td>Dinner</td>\n",
       "      <td>3</td>\n",
       "    </tr>\n",
       "    <tr>\n",
       "      <th>2</th>\n",
       "      <td>21.01</td>\n",
       "      <td>3.50</td>\n",
       "      <td>Male</td>\n",
       "      <td>No</td>\n",
       "      <td>Sun</td>\n",
       "      <td>Dinner</td>\n",
       "      <td>3</td>\n",
       "    </tr>\n",
       "    <tr>\n",
       "      <th>3</th>\n",
       "      <td>23.68</td>\n",
       "      <td>3.31</td>\n",
       "      <td>Male</td>\n",
       "      <td>No</td>\n",
       "      <td>Sun</td>\n",
       "      <td>Dinner</td>\n",
       "      <td>2</td>\n",
       "    </tr>\n",
       "    <tr>\n",
       "      <th>4</th>\n",
       "      <td>24.59</td>\n",
       "      <td>3.61</td>\n",
       "      <td>Female</td>\n",
       "      <td>No</td>\n",
       "      <td>Sun</td>\n",
       "      <td>Dinner</td>\n",
       "      <td>4</td>\n",
       "    </tr>\n",
       "  </tbody>\n",
       "</table>\n",
       "</div>"
      ],
      "text/plain": [
       "   total_bill   tip     sex smoker  day    time  size\n",
       "0       16.99  1.01  Female     No  Sun  Dinner     2\n",
       "1       10.34  1.66    Male     No  Sun  Dinner     3\n",
       "2       21.01  3.50    Male     No  Sun  Dinner     3\n",
       "3       23.68  3.31    Male     No  Sun  Dinner     2\n",
       "4       24.59  3.61  Female     No  Sun  Dinner     4"
      ]
     },
     "execution_count": 2,
     "metadata": {},
     "output_type": "execute_result"
    }
   ],
   "source": [
    "# import the data\n",
    "df = sns.load_dataset('tips')\n",
    "df.head()"
   ]
  },
  {
   "cell_type": "code",
   "execution_count": 3,
   "id": "4950ce36",
   "metadata": {
    "execution": {
     "iopub.execute_input": "2024-12-03T22:16:16.329894Z",
     "iopub.status.busy": "2024-12-03T22:16:16.329491Z",
     "iopub.status.idle": "2024-12-03T22:16:16.340348Z",
     "shell.execute_reply": "2024-12-03T22:16:16.339239Z"
    },
    "papermill": {
     "duration": 0.019585,
     "end_time": "2024-12-03T22:16:16.342483",
     "exception": false,
     "start_time": "2024-12-03T22:16:16.322898",
     "status": "completed"
    },
    "tags": []
   },
   "outputs": [],
   "source": [
    "# preprocess the data\n",
    "scalar = StandardScaler()\n",
    "df[['total_bill', 'tip']] = scalar.fit_transform(df[['total_bill', 'tip']])"
   ]
  },
  {
   "cell_type": "code",
   "execution_count": 4,
   "id": "fd18f539",
   "metadata": {
    "execution": {
     "iopub.execute_input": "2024-12-03T22:16:16.355051Z",
     "iopub.status.busy": "2024-12-03T22:16:16.354670Z",
     "iopub.status.idle": "2024-12-03T22:16:16.827245Z",
     "shell.execute_reply": "2024-12-03T22:16:16.826221Z"
    },
    "papermill": {
     "duration": 0.48177,
     "end_time": "2024-12-03T22:16:16.829794",
     "exception": false,
     "start_time": "2024-12-03T22:16:16.348024",
     "status": "completed"
    },
    "tags": []
   },
   "outputs": [
    {
     "data": {
      "text/plain": [
       "<seaborn.axisgrid.FacetGrid at 0x79169f253e50>"
      ]
     },
     "execution_count": 4,
     "metadata": {},
     "output_type": "execute_result"
    },
    {
     "data": {
      "image/png": "[encoded data removed]",
      "text/plain": [
       "<Figure size 500x500 with 1 Axes>"
      ]
     },
     "metadata": {},
     "output_type": "display_data"
    }
   ],
   "source": [
    "sns.lmplot(x='total_bill', y='tip', data=df)"
   ]
  },
  {
   "cell_type": "code",
   "execution_count": 5,
   "id": "38403293",
   "metadata": {
    "execution": {
     "iopub.execute_input": "2024-12-03T22:16:16.844344Z",
     "iopub.status.busy": "2024-12-03T22:16:16.843487Z",
     "iopub.status.idle": "2024-12-03T22:16:16.849651Z",
     "shell.execute_reply": "2024-12-03T22:16:16.848463Z"
    },
    "papermill": {
     "duration": 0.015636,
     "end_time": "2024-12-03T22:16:16.851796",
     "exception": false,
     "start_time": "2024-12-03T22:16:16.836160",
     "status": "completed"
    },
    "tags": []
   },
   "outputs": [],
   "source": [
    "# separate the features X and the target/labels y\n",
    "X = df[['total_bill']]\n",
    "y = df['tip']"
   ]
  },
  {
   "cell_type": "code",
   "execution_count": 6,
   "id": "b1cb0f1c",
   "metadata": {
    "execution": {
     "iopub.execute_input": "2024-12-03T22:16:16.866430Z",
     "iopub.status.busy": "2024-12-03T22:16:16.866052Z",
     "iopub.status.idle": "2024-12-03T22:16:16.874180Z",
     "shell.execute_reply": "2024-12-03T22:16:16.872870Z"
    },
    "papermill": {
     "duration": 0.017884,
     "end_time": "2024-12-03T22:16:16.876353",
     "exception": false,
     "start_time": "2024-12-03T22:16:16.858469",
     "status": "completed"
    },
    "tags": []
   },
   "outputs": [],
   "source": [
    "# train test split the data\n",
    "X_train, X_test, y_train, y_test = train_test_split(X, y, train_size=0.8)"
   ]
  },
  {
   "cell_type": "code",
   "execution_count": 7,
   "id": "6f428333",
   "metadata": {
    "execution": {
     "iopub.execute_input": "2024-12-03T22:16:16.891491Z",
     "iopub.status.busy": "2024-12-03T22:16:16.891144Z",
     "iopub.status.idle": "2024-12-03T22:16:16.895618Z",
     "shell.execute_reply": "2024-12-03T22:16:16.894566Z"
    },
    "papermill": {
     "duration": 0.014611,
     "end_time": "2024-12-03T22:16:16.897942",
     "exception": false,
     "start_time": "2024-12-03T22:16:16.883331",
     "status": "completed"
    },
    "tags": []
   },
   "outputs": [],
   "source": [
    "# call the model\n",
    "model = LinearRegression()"
   ]
  },
  {
   "cell_type": "code",
   "execution_count": 8,
   "id": "21c59cf9",
   "metadata": {
    "execution": {
     "iopub.execute_input": "2024-12-03T22:16:16.912047Z",
     "iopub.status.busy": "2024-12-03T22:16:16.911676Z",
     "iopub.status.idle": "2024-12-03T22:16:16.934940Z",
     "shell.execute_reply": "2024-12-03T22:16:16.933726Z"
    },
    "papermill": {
     "duration": 0.032986,
     "end_time": "2024-12-03T22:16:16.937226",
     "exception": false,
     "start_time": "2024-12-03T22:16:16.904240",
     "status": "completed"
    },
    "tags": []
   },
   "outputs": [
    {
     "data": {
      "text/html": [
       "<style>#sk-container-id-1 {color: black;background-color: white;}#sk-container-id-1 pre{padding: 0;}#sk-container-id-1 div.sk-toggleable {background-color: white;}#sk-container-id-1 label.sk-toggleable__label {cursor: pointer;display: block;width: 100%;margin-bottom: 0;padding: 0.3em;box-sizing: border-box;text-align: center;}#sk-container-id-1 label.sk-toggleable__label-arrow:before {content: \"▸\";float: left;margin-right: 0.25em;color: #696969;}#sk-container-id-1 label.sk-toggleable__label-arrow:hover:before {color: black;}#sk-container-id-1 div.sk-estimator:hover label.sk-toggleable__label-arrow:before {color: black;}#sk-container-id-1 div.sk-toggleable__content {max-height: 0;max-width: 0;overflow: hidden;text-align: left;background-color: #f0f8ff;}#sk-container-id-1 div.sk-toggleable__content pre {margin: 0.2em;color: black;border-radius: 0.25em;background-color: #f0f8ff;}#sk-container-id-1 input.sk-toggleable__control:checked~div.sk-toggleable__content {max-height: 200px;max-width: 100%;overflow: auto;}#sk-container-id-1 input.sk-toggleable__control:checked~label.sk-toggleable__label-arrow:before {content: \"▾\";}#sk-container-id-1 div.sk-estimator input.sk-toggleable__control:checked~label.sk-toggleable__label {background-color: #d4ebff;}#sk-container-id-1 div.sk-label input.sk-toggleable__control:checked~label.sk-toggleable__label {background-color: #d4ebff;}#sk-container-id-1 input.sk-hidden--visually {border: 0;clip: rect(1px 1px 1px 1px);clip: rect(1px, 1px, 1px, 1px);height: 1px;margin: -1px;overflow: hidden;padding: 0;position: absolute;width: 1px;}#sk-container-id-1 div.sk-estimator {font-family: monospace;background-color: #f0f8ff;border: 1px dotted black;border-radius: 0.25em;box-sizing: border-box;margin-bottom: 0.5em;}#sk-container-id-1 div.sk-estimator:hover {background-color: #d4ebff;}#sk-container-id-1 div.sk-parallel-item::after {content: \"\";width: 100%;border-bottom: 1px solid gray;flex-grow: 1;}#sk-container-id-1 div.sk-label:hover label.sk-toggleable__label {background-color: #d4ebff;}#sk-container-id-1 div.sk-serial::before {content: \"\";position: absolute;border-left: 1px solid gray;box-sizing: border-box;top: 0;bottom: 0;left: 50%;z-index: 0;}#sk-container-id-1 div.sk-serial {display: flex;flex-direction: column;align-items: center;background-color: white;padding-right: 0.2em;padding-left: 0.2em;position: relative;}#sk-container-id-1 div.sk-item {position: relative;z-index: 1;}#sk-container-id-1 div.sk-parallel {display: flex;align-items: stretch;justify-content: center;background-color: white;position: relative;}#sk-container-id-1 div.sk-item::before, #sk-container-id-1 div.sk-parallel-item::before {content: \"\";position: absolute;border-left: 1px solid gray;box-sizing: border-box;top: 0;bottom: 0;left: 50%;z-index: -1;}#sk-container-id-1 div.sk-parallel-item {display: flex;flex-direction: column;z-index: 1;position: relative;background-color: white;}#sk-container-id-1 div.sk-parallel-item:first-child::after {align-self: flex-end;width: 50%;}#sk-container-id-1 div.sk-parallel-item:last-child::after {align-self: flex-start;width: 50%;}#sk-container-id-1 div.sk-parallel-item:only-child::after {width: 0;}#sk-container-id-1 div.sk-dashed-wrapped {border: 1px dashed gray;margin: 0 0.4em 0.5em 0.4em;box-sizing: border-box;padding-bottom: 0.4em;background-color: white;}#sk-container-id-1 div.sk-label label {font-family: monospace;font-weight: bold;display: inline-block;line-height: 1.2em;}#sk-container-id-1 div.sk-label-container {text-align: center;}#sk-container-id-1 div.sk-container {/* jupyter's `normalize.less` sets `[hidden] { display: none; }` but bootstrap.min.css set `[hidden] { display: none !important; }` so we also need the `!important` here to be able to override the default hidden behavior on the sphinx rendered scikit-learn.org. See: https://github.com/scikit-learn/scikit-learn/issues/21755 */display: inline-block !important;position: relative;}#sk-container-id-1 div.sk-text-repr-fallback {display: none;}</style><div id=\"sk-container-id-1\" class=\"sk-top-container\"><div class=\"sk-text-repr-fallback\"><pre>LinearRegression()</pre><b>In a Jupyter environment, please rerun this cell to show the HTML representation or trust the notebook. <br />On GitHub, the HTML representation is unable to render, please try loading this page with nbviewer.org.</b></div><div class=\"sk-container\" hidden><div class=\"sk-item\"><div class=\"sk-estimator sk-toggleable\"><input class=\"sk-toggleable__control sk-hidden--visually\" id=\"sk-estimator-id-1\" type=\"checkbox\" checked><label for=\"sk-estimator-id-1\" class=\"sk-toggleable__label sk-toggleable__label-arrow\">LinearRegression</label><div class=\"sk-toggleable__content\"><pre>LinearRegression()</pre></div></div></div></div></div>"
      ],
      "text/plain": [
       "LinearRegression()"
      ]
     },
     "execution_count": 8,
     "metadata": {},
     "output_type": "execute_result"
    }
   ],
   "source": [
    "# train the model\n",
    "model.fit(X_train, y_train)"
   ]
  },
  {
   "cell_type": "code",
   "execution_count": 9,
   "id": "55b1c689",
   "metadata": {
    "execution": {
     "iopub.execute_input": "2024-12-03T22:16:16.951980Z",
     "iopub.status.busy": "2024-12-03T22:16:16.951557Z",
     "iopub.status.idle": "2024-12-03T22:16:16.961301Z",
     "shell.execute_reply": "2024-12-03T22:16:16.960046Z"
    },
    "papermill": {
     "duration": 0.019408,
     "end_time": "2024-12-03T22:16:16.963360",
     "exception": false,
     "start_time": "2024-12-03T22:16:16.943952",
     "status": "completed"
    },
    "tags": []
   },
   "outputs": [
    {
     "name": "stderr",
     "output_type": "stream",
     "text": [
      "/opt/conda/lib/python3.10/site-packages/sklearn/base.py:439: UserWarning: X does not have valid feature names, but LinearRegression was fitted with feature names\n",
      "  warnings.warn(\n"
     ]
    },
    {
     "data": {
      "text/plain": [
       "array([9.88200262])"
      ]
     },
     "execution_count": 9,
     "metadata": {},
     "output_type": "execute_result"
    }
   ],
   "source": [
    "model.predict([[15]])"
   ]
  },
  {
   "cell_type": "code",
   "execution_count": 10,
   "id": "8e5b8a7d",
   "metadata": {
    "execution": {
     "iopub.execute_input": "2024-12-03T22:16:16.978969Z",
     "iopub.status.busy": "2024-12-03T22:16:16.978576Z",
     "iopub.status.idle": "2024-12-03T22:16:16.984731Z",
     "shell.execute_reply": "2024-12-03T22:16:16.983501Z"
    },
    "papermill": {
     "duration": 0.016708,
     "end_time": "2024-12-03T22:16:16.986901",
     "exception": false,
     "start_time": "2024-12-03T22:16:16.970193",
     "status": "completed"
    },
    "tags": []
   },
   "outputs": [],
   "source": [
    "# prediction\n",
    "y_pred = model.predict(X_test)"
   ]
  },
  {
   "cell_type": "code",
   "execution_count": 11,
   "id": "b12406da",
   "metadata": {
    "execution": {
     "iopub.execute_input": "2024-12-03T22:16:17.002081Z",
     "iopub.status.busy": "2024-12-03T22:16:17.001690Z",
     "iopub.status.idle": "2024-12-03T22:16:17.009204Z",
     "shell.execute_reply": "2024-12-03T22:16:17.008236Z"
    },
    "papermill": {
     "duration": 0.017865,
     "end_time": "2024-12-03T22:16:17.011663",
     "exception": false,
     "start_time": "2024-12-03T22:16:16.993798",
     "status": "completed"
    },
    "tags": []
   },
   "outputs": [
    {
     "name": "stdout",
     "output_type": "stream",
     "text": [
      "MSE:  0.6883060333782184\n",
      "R2:  0.44162086047029214\n"
     ]
    }
   ],
   "source": [
    "# evaluation the model\n",
    "from sklearn.metrics import mean_squared_error, r2_score\n",
    "print('MSE: ', mean_squared_error(y_test, y_pred))\n",
    "print('R2: ', r2_score(y_test, y_pred))"
   ]
  },
  {
   "cell_type": "markdown",
   "id": "5149bea4",
   "metadata": {
    "papermill": {
     "duration": 0.006573,
     "end_time": "2024-12-03T22:16:17.025003",
     "exception": false,
     "start_time": "2024-12-03T22:16:17.018430",
     "status": "completed"
    },
    "tags": []
   },
   "source": [
    "# Save and load a trained Machine Learning model\n",
    "\n",
    "After training a machine learning model, it is important to save the model to a file. This is because training a machine learning model can be computationally expensive and time-consuming. Saving the model to a file allows us to use the trained model in the future without having to retrain it. In this notebook, we will see how to save and load a trained machine learning model using the `pickle` library in Python."
   ]
  },
  {
   "cell_type": "code",
   "execution_count": null,
   "id": "82b55764",
   "metadata": {
    "execution": {
     "iopub.execute_input": "2024-12-03T22:16:17.040078Z",
     "iopub.status.busy": "2024-12-03T22:16:17.039692Z",
     "iopub.status.idle": "2024-12-03T22:16:17.045608Z",
     "shell.execute_reply": "2024-12-03T22:16:17.044577Z"
    },
    "papermill": {
     "duration": 0.016099,
     "end_time": "2024-12-03T22:16:17.047901",
     "exception": false,
     "start_time": "2024-12-03T22:16:17.031802",
     "status": "completed"
    },
    "tags": []
   },
   "outputs": [],
   "source": [
    "# save the model\n",
    "import pickle\n",
    "# create folder to save the model if exists remove it\n",
    "import os\n",
    "if not os.path.exists('saved_models'):\n",
    "    os.makedirs('saved_models')\n",
    "pickle.dump(model, open('./saved_models/01_linear_regression.pkl', 'wb')) # Model saved in the Directory and then in WRITE BINARY"
   ]
  },
  {
   "cell_type": "code",
   "execution_count": null,
   "id": "b79e9f75",
   "metadata": {
    "execution": {
     "iopub.execute_input": "2024-12-03T22:16:17.063054Z",
     "iopub.status.busy": "2024-12-03T22:16:17.062599Z",
     "iopub.status.idle": "2024-12-03T22:16:17.068237Z",
     "shell.execute_reply": "2024-12-03T22:16:17.067127Z"
    },
    "papermill": {
     "duration": 0.015649,
     "end_time": "2024-12-03T22:16:17.070416",
     "exception": false,
     "start_time": "2024-12-03T22:16:17.054767",
     "status": "completed"
    },
    "tags": []
   },
   "outputs": [],
   "source": [
    "# load the model\n",
    "import pickle\n",
    "model_load = pickle.load(open('./saved_models/01_linear_regression.pkl', 'rb')) # Calling Back the Model in READ BINARY"
   ]
  },
  {
   "cell_type": "code",
   "execution_count": 14,
   "id": "02525436",
   "metadata": {
    "execution": {
     "iopub.execute_input": "2024-12-03T22:16:17.085556Z",
     "iopub.status.busy": "2024-12-03T22:16:17.085169Z",
     "iopub.status.idle": "2024-12-03T22:16:17.092913Z",
     "shell.execute_reply": "2024-12-03T22:16:17.091919Z"
    },
    "papermill": {
     "duration": 0.017804,
     "end_time": "2024-12-03T22:16:17.095175",
     "exception": false,
     "start_time": "2024-12-03T22:16:17.077371",
     "status": "completed"
    },
    "tags": []
   },
   "outputs": [
    {
     "name": "stderr",
     "output_type": "stream",
     "text": [
      "/opt/conda/lib/python3.10/site-packages/sklearn/base.py:439: UserWarning: X does not have valid feature names, but LinearRegression was fitted with feature names\n",
      "  warnings.warn(\n"
     ]
    },
    {
     "data": {
      "text/plain": [
       "array([9.88200262])"
      ]
     },
     "execution_count": 14,
     "metadata": {},
     "output_type": "execute_result"
    }
   ],
   "source": [
    "model_load.predict([[15]])"
   ]
  },
  {
   "cell_type": "markdown",
   "id": "5ccdff67",
   "metadata": {
    "papermill": {
     "duration": 0.00695,
     "end_time": "2024-12-03T22:16:17.108976",
     "exception": false,
     "start_time": "2024-12-03T22:16:17.102026",
     "status": "completed"
    },
    "tags": []
   },
   "source": [
    "# Multilinear Regression\n",
    "\n",
    "Multi-linear regression is a type of regression analysis that is used to predict the relationship between two or more independent variables and one dependent variable. In this notebook, we will use the `sklearn` library to create a multi-linear regression model and save it to a file. We will then load the model from the file and use it to make predictions."
   ]
  },
  {
   "cell_type": "code",
   "execution_count": 15,
   "id": "8a1e2eca",
   "metadata": {
    "execution": {
     "iopub.execute_input": "2024-12-03T22:16:17.124865Z",
     "iopub.status.busy": "2024-12-03T22:16:17.124048Z",
     "iopub.status.idle": "2024-12-03T22:16:17.157472Z",
     "shell.execute_reply": "2024-12-03T22:16:17.156295Z"
    },
    "papermill": {
     "duration": 0.04371,
     "end_time": "2024-12-03T22:16:17.159789",
     "exception": false,
     "start_time": "2024-12-03T22:16:17.116079",
     "status": "completed"
    },
    "tags": []
   },
   "outputs": [
    {
     "name": "stdout",
     "output_type": "stream",
     "text": [
      "Mean Squared Error: 0.6566031847646812\n",
      "R2 Score: 0.4747054104497258\n",
      "Mean Absolute Error: 0.6656656656006282\n",
      "Mean Absolute Percentage Error: 0.2789919978935491\n",
      "Root Mean Squared Error: 0.8103105483483978\n"
     ]
    }
   ],
   "source": [
    "import pandas as pd\n",
    "import numpy as np\n",
    "import seaborn as sns\n",
    "#data pre processing\n",
    "from sklearn.preprocessing import StandardScaler, LabelEncoder\n",
    "from sklearn.linear_model import LinearRegression\n",
    "from sklearn.model_selection import train_test_split\n",
    "from sklearn.metrics import mean_squared_error, r2_score, mean_absolute_error, mean_absolute_percentage_error\n",
    "#ignore warning\n",
    "import warnings\n",
    "warnings.filterwarnings('ignore')\n",
    "\n",
    "\n",
    "# load the data\n",
    "df = sns.load_dataset('tips')\n",
    "df.head()\n",
    "\n",
    "X = df[['total_bill', 'size', 'day']]\n",
    "y = df['tip']\n",
    "\n",
    "# preprocess the data\n",
    "scalar = StandardScaler()\n",
    "X[['total_bill', 'size']] = scalar.fit_transform(X[['total_bill', 'size']])\n",
    "\n",
    "le = LabelEncoder()\n",
    "X['day'] = le.fit_transform(X['day'])\n",
    "# train test split\n",
    "X_train, X_test, y_train, y_test = train_test_split(X, y, train_size=0.8, random_state=42)\n",
    "\n",
    "# call the model\n",
    "model = LinearRegression()\n",
    "\n",
    "# fit the model\n",
    "model.fit(X_train, y_train)\n",
    "\n",
    "# metric to evaluate the model\n",
    "y_pred = model.predict(X_test)\n",
    "\n",
    "print(f\"Mean Squared Error: {mean_squared_error(y_test, y_pred)}\")\n",
    "print(f\"R2 Score: {r2_score(y_test, y_pred)}\")\n",
    "print(f\"Mean Absolute Error: {mean_absolute_error(y_test, y_pred)}\")\n",
    "print(f\"Mean Absolute Percentage Error: {mean_absolute_percentage_error(y_test, y_pred)}\")\n",
    "# root mean squared error\n",
    "print(f\"Root Mean Squared Error: {np.sqrt(mean_squared_error(y_test, y_pred))}\")"
   ]
  },
  {
   "cell_type": "markdown",
   "id": "e27fad96",
   "metadata": {
    "papermill": {
     "duration": 0.006624,
     "end_time": "2024-12-03T22:16:17.173309",
     "exception": false,
     "start_time": "2024-12-03T22:16:17.166685",
     "status": "completed"
    },
    "tags": []
   },
   "source": [
    "## Using Pipleline\n",
    "\n",
    "In this notebook, we will use the `Pipeline` class from the `sklearn` library to create a multi-linear regression model. The `Pipeline` class allows us to chain multiple estimators into a single estimator. This makes it easier to work with multiple steps in a machine learning workflow."
   ]
  },
  {
   "cell_type": "code",
   "execution_count": 16,
   "id": "6a2eb5fb",
   "metadata": {
    "execution": {
     "iopub.execute_input": "2024-12-03T22:16:17.189040Z",
     "iopub.status.busy": "2024-12-03T22:16:17.188652Z",
     "iopub.status.idle": "2024-12-03T22:16:17.227010Z",
     "shell.execute_reply": "2024-12-03T22:16:17.225681Z"
    },
    "papermill": {
     "duration": 0.049014,
     "end_time": "2024-12-03T22:16:17.229283",
     "exception": false,
     "start_time": "2024-12-03T22:16:17.180269",
     "status": "completed"
    },
    "tags": []
   },
   "outputs": [
    {
     "name": "stdout",
     "output_type": "stream",
     "text": [
      "Mean Squared Error: 0.6655725405795044\n",
      "R2 Score: 0.46752976130485224\n",
      "Mean Absolute Error: 0.6591957722968487\n",
      "Mean Absolute Percentage Error: 0.2730622135259165\n",
      "Root Mean Squared Error: 0.815826293140583\n"
     ]
    }
   ],
   "source": [
    "from sklearn.pipeline import Pipeline\n",
    "from sklearn.compose import ColumnTransformer\n",
    "import pandas as pd\n",
    "import numpy as np\n",
    "import seaborn as sns\n",
    "#data pre processing\n",
    "from sklearn.preprocessing import StandardScaler, LabelEncoder, OneHotEncoder\n",
    "from sklearn.linear_model import LinearRegression\n",
    "from sklearn.model_selection import train_test_split\n",
    "from sklearn.metrics import mean_squared_error, r2_score, mean_absolute_error, mean_absolute_percentage_error\n",
    "#ignore warning\n",
    "import warnings\n",
    "warnings.filterwarnings('ignore')\n",
    "\n",
    "# load the data\n",
    "df = sns.load_dataset('tips')\n",
    "# separate the features X and the target/labels y\n",
    "X = df[['total_bill', 'size', 'day']]\n",
    "y = df['tip']\n",
    "\n",
    "# numeric features\n",
    "numeric_features = ['total_bill', 'size']\n",
    "# categorical features\n",
    "categorical_features = ['day']\n",
    "\n",
    "# preprocess the data\n",
    "preprocessor = ColumnTransformer(\n",
    "    transformers=[\n",
    "        ('num', StandardScaler(), numeric_features),\n",
    "        ('cat', OneHotEncoder(), categorical_features)\n",
    "    ]\n",
    ")\n",
    "\n",
    "# train test split\n",
    "X_train, X_test, y_train, y_test = train_test_split(X, y, train_size=0.8, random_state=42)\n",
    "\n",
    "# pipeline\n",
    "pipeline = Pipeline(\n",
    "    steps=[\n",
    "        ('preprocessor', preprocessor),\n",
    "        ('model', LinearRegression())\n",
    "    ]\n",
    ")\n",
    "\n",
    "# fit the model\n",
    "pipeline.fit(X_train, y_train)\n",
    "\n",
    "# metric to evaluate the model\n",
    "y_pred = pipeline.predict(X_test)\n",
    "\n",
    "print(f\"Mean Squared Error: {mean_squared_error(y_test, y_pred)}\")\n",
    "print(f\"R2 Score: {r2_score(y_test, y_pred)}\")\n",
    "print(f\"Mean Absolute Error: {mean_absolute_error(y_test, y_pred)}\")\n",
    "print(f\"Mean Absolute Percentage Error: {mean_absolute_percentage_error(y_test, y_pred)}\")\n",
    "# root mean squared error\n",
    "print(f\"Root Mean Squared Error: {np.sqrt(mean_squared_error(y_test, y_pred))}\")"
   ]
  },
  {
   "cell_type": "markdown",
   "id": "73393061",
   "metadata": {
    "papermill": {
     "duration": 0.006695,
     "end_time": "2024-12-03T22:16:17.243232",
     "exception": false,
     "start_time": "2024-12-03T22:16:17.236537",
     "status": "completed"
    },
    "tags": []
   },
   "source": [
    "## Go for big data\n",
    "\n",
    "We will use diamonds dataset from seaborn library. The dataset contains the following columns:\n",
    "- `carat`: weight of the diamond (0.2--5.01)\n",
    "- `cut`: quality of the cut (Fair, Good, Very Good, Premium, Ideal)\n",
    "- `color`: diamond colour, from J (worst) to D (best)\n",
    "- `clarity`: a measurement of how clear the diamond is (I1 (worst), SI2, SI1, VS2, VS1, VVS2, VVS1, IF (best))\n",
    "- `depth`: total depth percentage = z / mean(x, y) = 2 * z / (x + y) (43--79)\n",
    "- `table`: width of top of diamond relative to widest point (43--95)\n",
    "- `price`: price in US dollars (\\$326--\\$18,823)\n",
    "- `x`: length in mm (0--10.74)\n",
    "- `y`: width in mm (0--58.9)\n",
    "- `z`: depth in mm (0--31.8)"
   ]
  },
  {
   "cell_type": "code",
   "execution_count": 17,
   "id": "4051349b",
   "metadata": {
    "execution": {
     "iopub.execute_input": "2024-12-03T22:16:17.259258Z",
     "iopub.status.busy": "2024-12-03T22:16:17.258441Z",
     "iopub.status.idle": "2024-12-03T22:16:17.852083Z",
     "shell.execute_reply": "2024-12-03T22:16:17.850715Z"
    },
    "papermill": {
     "duration": 0.610232,
     "end_time": "2024-12-03T22:16:17.860445",
     "exception": false,
     "start_time": "2024-12-03T22:16:17.250213",
     "status": "completed"
    },
    "tags": []
   },
   "outputs": [
    {
     "name": "stdout",
     "output_type": "stream",
     "text": [
      "Mean Squared Error: 1288705.4778516744\n",
      "R2 Score: 0.9189331350419387\n",
      "Mean Absolute Error: 737.1513665933272\n",
      "Mean Absolute Percentage Error: 0.395293351649432\n",
      "Root Mean Squared Error: 1135.2116445190625\n"
     ]
    }
   ],
   "source": [
    "from sklearn.pipeline import Pipeline\n",
    "from sklearn.compose import ColumnTransformer\n",
    "import pandas as pd\n",
    "import numpy as np\n",
    "import seaborn as sns\n",
    "#data pre processing\n",
    "from sklearn.preprocessing import StandardScaler, LabelEncoder, OneHotEncoder\n",
    "from sklearn.linear_model import LinearRegression\n",
    "from sklearn.model_selection import train_test_split\n",
    "from sklearn.metrics import mean_squared_error, r2_score, mean_absolute_error, mean_absolute_percentage_error\n",
    "#ignore warning\n",
    "import warnings\n",
    "warnings.filterwarnings('ignore')\n",
    "\n",
    "# load the data\n",
    "df = sns.load_dataset('diamonds')\n",
    "\n",
    "# separate the features X and the target/labels y\n",
    "X = df.drop('price', axis=1)\n",
    "y = df['price']\n",
    "\n",
    "# numeric features\n",
    "numeric_features = ['carat', 'depth', 'table', 'x', 'y', 'z']\n",
    "# categorical features\n",
    "categorical_features = ['cut', 'color', 'clarity']\n",
    "\n",
    "# preprocess the data\n",
    "preprocessor = ColumnTransformer(\n",
    "    transformers=[\n",
    "        ('num', StandardScaler(), numeric_features),\n",
    "        ('cat', OneHotEncoder(), categorical_features)\n",
    "    ]\n",
    ")\n",
    "\n",
    "# train test split\n",
    "X_train, X_test, y_train, y_test = train_test_split(X, y, train_size=0.8, random_state=42)\n",
    "\n",
    "# pipeline\n",
    "pipeline = Pipeline(\n",
    "    steps=[\n",
    "        ('preprocessor', preprocessor),\n",
    "        ('model', LinearRegression())\n",
    "    ]\n",
    ")\n",
    "\n",
    "# fit the model\n",
    "pipeline.fit(X_train, y_train)\n",
    "\n",
    "# metric to evaluate the model\n",
    "y_pred = pipeline.predict(X_test)\n",
    "\n",
    "print(f\"Mean Squared Error: {mean_squared_error(y_test, y_pred)}\")\n",
    "print(f\"R2 Score: {r2_score(y_test, y_pred)}\")\n",
    "print(f\"Mean Absolute Error: {mean_absolute_error(y_test, y_pred)}\")\n",
    "print(f\"Mean Absolute Percentage Error: {mean_absolute_percentage_error(y_test, y_pred)}\")\n",
    "# root mean squared error\n",
    "print(f\"Root Mean Squared Error: {np.sqrt(mean_squared_error(y_test, y_pred))}\")"
   ]
  },
  {
   "cell_type": "markdown",
   "id": "bab93b58",
   "metadata": {
    "papermill": {
     "duration": 0.02292,
     "end_time": "2024-12-03T22:16:17.937669",
     "exception": false,
     "start_time": "2024-12-03T22:16:17.914749",
     "status": "completed"
    },
    "tags": []
   },
   "source": [
    "## Interpretation of the model Metrics"
   ]
  },
  {
   "cell_type": "markdown",
   "id": "f6770eac",
   "metadata": {
    "papermill": {
     "duration": 0.007565,
     "end_time": "2024-12-03T22:16:17.964939",
     "exception": false,
     "start_time": "2024-12-03T22:16:17.957374",
     "status": "completed"
    },
    "tags": [],
    "vscode": {
     "languageId": "markdown"
    }
   },
   "source": [
    "The Metrics indicate the performance of your regression model. \n",
    "\n",
    "Here's a brief interpretation:\n",
    "\n",
    "- **Mean Squared Error (MSE)**: 1288813.63 - This value represents the average of the squares of the errors. A lower MSE indicates a better fit, but the value itself is not very interpretable without context. \n",
    "    > `e.g:` if the target variable is in the range of 0-100, an MSE of 1288813.63 is high, but if the target variable is in the range of 100000-1000000, then the MSE is low. \n",
    "\n",
    "- **R2 Score**: 0.9189 - This value indicates that approximately 91.89% of the variance in the dependent variable (price) is predictable from the independent variables. An R2 score close to 1 indicates a good fit.\n",
    "    > `e.g:` if the R2 score is 0.9189, it means that 91.89% of the variance in the price can be explained by the independent variables in the model.\n",
    "\n",
    "\n",
    "- **Mean Absolute Error (MAE)**: 736.91 - This value represents the average absolute difference between the predicted and actual values. Lower values indicate better performance.\n",
    "    > `e.g:` if the MAE is 736.91, it means that, on average, the model's predictions are off by $736.91.\n",
    "\n",
    "\n",
    "- **Mean Absolute Percentage Error (MAPE)**: 0.3951 - This value represents the average absolute percentage difference between the predicted and actual values. Lower values indicate better performance.\n",
    "    > `e.g:` if the MAPE is 0.3951, it means that, on average, the model's predictions are off by 39.51%.\n",
    "\n",
    "- **Root Mean Squared Error (RMSE)**: 1135.26 - This value is the square root of the MSE and provides a measure of the average magnitude of the error. Lower values indicate better performance.\n",
    "    > `e.g:` if the RMSE is 1135.26, it means that, on average, the model's predictions are off by $1135.26.\n",
    "\n",
    "Overall, the R2 score of 0.9189 suggests that your model explains a significant portion of the variance in the data, which is a good sign. However, the MSE, MAE, and RMSE values are relatively high, indicating that there is still room for improvement in the model's accuracy.\n",
    "\n",
    "## Conclusion\n",
    "\n",
    "In this notebook, we created a multi-linear regression model using the `sklearn` library and saved it to a file. We then loaded the model from the file and used it to make predictions. We also evaluated the model's performance using various metrics such as MSE, R2 score, MAE, MAPE, and RMSE. The results indicate that the model explains a significant portion of the variance in the data but has room for improvement in terms of accuracy."
   ]
  },
  {
   "cell_type": "markdown",
   "id": "c8686d87",
   "metadata": {
    "papermill": {
     "duration": 0.006577,
     "end_time": "2024-12-03T22:16:17.978405",
     "exception": false,
     "start_time": "2024-12-03T22:16:17.971828",
     "status": "completed"
    },
    "tags": []
   },
   "source": [
    "# **15 Ways to improve the ML Model's performance?**\n",
    "\n",
    "1. **Feature Engineering**: Create new features that capture additional information from the data.\n",
    "2. **Hyperparameter Tuning**: Optimize the model's hyperparameters to improve performance.\n",
    "3. **Regularization**: Apply regularization techniques to prevent overfitting.\n",
    "4. **Ensemble Methods**: Use ensemble methods such as Random Forest or Gradient Boosting to improve predictive performance.\n",
    "5. **Cross-Validation**: Use cross-validation to assess the model's performance more accurately.\n",
    "6. **Feature Selection**: Identify and select the most relevant features for the model.\n",
    "7. **Data Preprocessing**: Clean and preprocess the data to improve model performance.\n",
    "8. **Model Selection**: Experiment with different regression models to find the best fit for the data.\n",
    "9. **Error Analysis**: Analyze the model's errors to identify patterns and areas for improvement.\n",
    "10. **Domain Knowledge**: Incorporate domain knowledge to improve the model's predictive power.\n",
    "11. **Data Augmentation**: Increase the size of the training data through data augmentation techniques.\n",
    "12. **Model Stacking**: Combine multiple models to improve predictive performance.\n",
    "13. **Model Interpretation**: Interpret the model's predictions to gain insights into the data and improve performance.\n",
    "14. **Model Deployment**: Deploy the model in a production environment and monitor its performance over time.\n",
    "15. **Feedback Loop**: Incorporate feedback from users and stakeholders to continuously improve the model."
   ]
  },
  {
   "cell_type": "markdown",
   "id": "57e0096d",
   "metadata": {
    "papermill": {
     "duration": 0.007305,
     "end_time": "2024-12-03T22:16:17.992706",
     "exception": false,
     "start_time": "2024-12-03T22:16:17.985401",
     "status": "completed"
    },
    "tags": []
   },
   "source": [
    "<h2 style=\"font-family: 'poppins'; font-weight: bold; color: Green;\">👨‍💻Author: Dr. Muhammad Aammar Tufail</h2>\n",
    "\n",
    "[![GitHub](https://img.shields.io/badge/GitHub-Profile-blue?style=for-the-badge&logo=github)](https://github.com/AammarTufail) \n",
    "[![Kaggle](https://img.shields.io/badge/Kaggle-Profile-blue?style=for-the-badge&logo=kaggle)](https://www.kaggle.com/muhammadaammartufail) \n",
    "[![LinkedIn](https://img.shields.io/badge/LinkedIn-Profile-blue?style=for-the-badge&logo=linkedin)](https://www.linkedin.com/in/dr-muhammad-aammar-tufail-02471213b/)  \n",
    "\n",
    "[![YouTube](https://img.shields.io/badge/YouTube-Profile-red?style=for-the-badge&logo=youtube)](https://www.youtube.com/@codanics) \n",
    "[![Facebook](https://img.shields.io/badge/Facebook-Profile-blue?style=for-the-badge&logo=facebook)](https://www.facebook.com/aammar.tufail) \n",
    "[![TikTok](https://img.shields.io/badge/TikTok-Profile-black?style=for-the-badge&logo=tiktok)](https://www.tiktok.com/@draammar)  \n",
    "\n",
    "[![Twitter/X](https://img.shields.io/badge/Twitter-Profile-blue?style=for-the-badge&logo=twitter)](https://twitter.com/aammar_tufail) \n",
    "[![Instagram](https://img.shields.io/badge/Instagram-Profile-blue?style=for-the-badge&logo=instagram)](https://www.instagram.com/aammartufail/) \n",
    "[![Email](https://img.shields.io/badge/Email-Contact%20Me-red?style=for-the-badge&logo=email)](mailto:aammar@codanics.com)\n"
   ]
  }
 ],
 "metadata": {
  "kaggle": {
   "accelerator": "none",
   "dataSources": [],
   "dockerImageVersionId": 30804,
   "isGpuEnabled": false,
   "isInternetEnabled": true,
   "language": "python",
   "sourceType": "notebook"
  },
  "kernelspec": {
   "display_name": "Python 3",
   "language": "python",
   "name": "python3"
  },
  "language_info": {
   "codemirror_mode": {
    "name": "ipython",
    "version": 3
   },
   "file_extension": ".py",
   "mimetype": "text/x-python",
   "name": "python",
   "nbconvert_exporter": "python",
   "pygments_lexer": "ipython3",
   "version": "3.10.14"
  },
  "papermill": {
   "default_parameters": {},
   "duration": 8.485803,
   "end_time": "2024-12-03T22:16:18.625203",
   "environment_variables": {},
   "exception": null,
   "input_path": "__notebook__.ipynb",
   "output_path": "__notebook__.ipynb",
   "parameters": {},
   "start_time": "2024-12-03T22:16:10.139400",
   "version": "2.6.0"
  }
 },
 "nbformat": 4,
 "nbformat_minor": 5
}
